{
  "nbformat": 4,
  "nbformat_minor": 0,
  "metadata": {
    "colab": {
      "provenance": [],
      "collapsed_sections": []
    },
    "kernelspec": {
      "name": "python3",
      "display_name": "Python 3"
    },
    "language_info": {
      "name": "python"
    }
  },
  "cells": [
    {
      "cell_type": "code",
      "execution_count": null,
      "metadata": {
        "id": "CkfL4Vdg-CRf"
      },
      "outputs": [],
      "source": [
        "#MAJOR PROJECT-1"
      ]
    },
    {
      "cell_type": "code",
      "source": [
        "#Choose any dataset of your choice and apply a suitable CLASSIFIER/REGRESSOR"
      ],
      "metadata": {
        "id": "GJGD9_rWaK3g"
      },
      "execution_count": null,
      "outputs": []
    },
    {
      "cell_type": "code",
      "source": [
        "#DATASET-mcdonalds ice cream\n",
        "#URL-/content/mcdonalds_dataset.csv.zip"
      ],
      "metadata": {
        "id": "QjHghS-DaUQi"
      },
      "execution_count": null,
      "outputs": []
    },
    {
      "cell_type": "code",
      "source": [
        "#CREATE DATAFRAME\n",
        "import pandas as pd\n",
        "df=pd.read_csv('/content/mcdonalds_dataset.csv.zip')\n",
        "df"
      ],
      "metadata": {
        "colab": {
          "base_uri": "https://localhost:8080/",
          "height": 424
        },
        "id": "w2yhZwlDGuJ8",
        "outputId": "2498fece-08b8-4c8a-f6c2-29e7caed8752"
      },
      "execution_count": null,
      "outputs": [
        {
          "output_type": "execute_result",
          "data": {
            "text/plain": [
              "             lat        lon  alt  is_broken  is_active       dot state  \\\n",
              "0     -73.988281  40.718830    0      False       True   working    NY   \n",
              "1     -74.005090  40.728794    0      False       True   working    NY   \n",
              "2     -73.993408  40.729197    0      False       True   working    NY   \n",
              "3     -73.985855  40.726555    0      False       True   working    NY   \n",
              "4     -73.991692  40.691383    0       True       True    broken    NY   \n",
              "...          ...        ...  ...        ...        ...       ...   ...   \n",
              "16666  13.475643  52.514265    0      False      False  inactive   NaN   \n",
              "16667  13.429812  54.076239    0      False      False  inactive   NaN   \n",
              "16668   8.787059  53.100934    0      False      False  inactive   NaN   \n",
              "16669  11.409059  53.628227    0      False      False  inactive   NaN   \n",
              "16670  11.405999  53.903701    0      False      False  inactive   NaN   \n",
              "\n",
              "             city                 street country             last_checked  \n",
              "0        New York        114 Delancey St     USA  Checked 142 minutes ago  \n",
              "1        New York          208 Varick St     USA  Checked 142 minutes ago  \n",
              "2        New York           724 Broadway     USA  Checked 142 minutes ago  \n",
              "3        New York            102 1st Ave     USA  Checked 142 minutes ago  \n",
              "4        Brooklyn            82 Court St     USA  Checked 142 minutes ago  \n",
              "...           ...                    ...     ...                      ...  \n",
              "16666      Berlin  Frankfurter Allee 117      DE   Checked 31 minutes ago  \n",
              "16667  Greifswald    Anklamer Landstr. 1      DE   Checked 31 minutes ago  \n",
              "16668      Bremen    Waller Heerstr. 101      DE   Checked 31 minutes ago  \n",
              "16669    Schwerin        Marienplatz 5-7      DE   Checked 31 minutes ago  \n",
              "16670      Wismar    Zierower Landstr. 3      DE   Checked 31 minutes ago  \n",
              "\n",
              "[16671 rows x 11 columns]"
            ],
            "text/html": [
              "\n",
              "  <div id=\"df-5e0cc172-9f9f-4d21-9318-7f970fef5f3e\">\n",
              "    <div class=\"colab-df-container\">\n",
              "      <div>\n",
              "<style scoped>\n",
              "    .dataframe tbody tr th:only-of-type {\n",
              "        vertical-align: middle;\n",
              "    }\n",
              "\n",
              "    .dataframe tbody tr th {\n",
              "        vertical-align: top;\n",
              "    }\n",
              "\n",
              "    .dataframe thead th {\n",
              "        text-align: right;\n",
              "    }\n",
              "</style>\n",
              "<table border=\"1\" class=\"dataframe\">\n",
              "  <thead>\n",
              "    <tr style=\"text-align: right;\">\n",
              "      <th></th>\n",
              "      <th>lat</th>\n",
              "      <th>lon</th>\n",
              "      <th>alt</th>\n",
              "      <th>is_broken</th>\n",
              "      <th>is_active</th>\n",
              "      <th>dot</th>\n",
              "      <th>state</th>\n",
              "      <th>city</th>\n",
              "      <th>street</th>\n",
              "      <th>country</th>\n",
              "      <th>last_checked</th>\n",
              "    </tr>\n",
              "  </thead>\n",
              "  <tbody>\n",
              "    <tr>\n",
              "      <th>0</th>\n",
              "      <td>-73.988281</td>\n",
              "      <td>40.718830</td>\n",
              "      <td>0</td>\n",
              "      <td>False</td>\n",
              "      <td>True</td>\n",
              "      <td>working</td>\n",
              "      <td>NY</td>\n",
              "      <td>New York</td>\n",
              "      <td>114 Delancey St</td>\n",
              "      <td>USA</td>\n",
              "      <td>Checked 142 minutes ago</td>\n",
              "    </tr>\n",
              "    <tr>\n",
              "      <th>1</th>\n",
              "      <td>-74.005090</td>\n",
              "      <td>40.728794</td>\n",
              "      <td>0</td>\n",
              "      <td>False</td>\n",
              "      <td>True</td>\n",
              "      <td>working</td>\n",
              "      <td>NY</td>\n",
              "      <td>New York</td>\n",
              "      <td>208 Varick St</td>\n",
              "      <td>USA</td>\n",
              "      <td>Checked 142 minutes ago</td>\n",
              "    </tr>\n",
              "    <tr>\n",
              "      <th>2</th>\n",
              "      <td>-73.993408</td>\n",
              "      <td>40.729197</td>\n",
              "      <td>0</td>\n",
              "      <td>False</td>\n",
              "      <td>True</td>\n",
              "      <td>working</td>\n",
              "      <td>NY</td>\n",
              "      <td>New York</td>\n",
              "      <td>724 Broadway</td>\n",
              "      <td>USA</td>\n",
              "      <td>Checked 142 minutes ago</td>\n",
              "    </tr>\n",
              "    <tr>\n",
              "      <th>3</th>\n",
              "      <td>-73.985855</td>\n",
              "      <td>40.726555</td>\n",
              "      <td>0</td>\n",
              "      <td>False</td>\n",
              "      <td>True</td>\n",
              "      <td>working</td>\n",
              "      <td>NY</td>\n",
              "      <td>New York</td>\n",
              "      <td>102 1st Ave</td>\n",
              "      <td>USA</td>\n",
              "      <td>Checked 142 minutes ago</td>\n",
              "    </tr>\n",
              "    <tr>\n",
              "      <th>4</th>\n",
              "      <td>-73.991692</td>\n",
              "      <td>40.691383</td>\n",
              "      <td>0</td>\n",
              "      <td>True</td>\n",
              "      <td>True</td>\n",
              "      <td>broken</td>\n",
              "      <td>NY</td>\n",
              "      <td>Brooklyn</td>\n",
              "      <td>82 Court St</td>\n",
              "      <td>USA</td>\n",
              "      <td>Checked 142 minutes ago</td>\n",
              "    </tr>\n",
              "    <tr>\n",
              "      <th>...</th>\n",
              "      <td>...</td>\n",
              "      <td>...</td>\n",
              "      <td>...</td>\n",
              "      <td>...</td>\n",
              "      <td>...</td>\n",
              "      <td>...</td>\n",
              "      <td>...</td>\n",
              "      <td>...</td>\n",
              "      <td>...</td>\n",
              "      <td>...</td>\n",
              "      <td>...</td>\n",
              "    </tr>\n",
              "    <tr>\n",
              "      <th>16666</th>\n",
              "      <td>13.475643</td>\n",
              "      <td>52.514265</td>\n",
              "      <td>0</td>\n",
              "      <td>False</td>\n",
              "      <td>False</td>\n",
              "      <td>inactive</td>\n",
              "      <td>NaN</td>\n",
              "      <td>Berlin</td>\n",
              "      <td>Frankfurter Allee 117</td>\n",
              "      <td>DE</td>\n",
              "      <td>Checked 31 minutes ago</td>\n",
              "    </tr>\n",
              "    <tr>\n",
              "      <th>16667</th>\n",
              "      <td>13.429812</td>\n",
              "      <td>54.076239</td>\n",
              "      <td>0</td>\n",
              "      <td>False</td>\n",
              "      <td>False</td>\n",
              "      <td>inactive</td>\n",
              "      <td>NaN</td>\n",
              "      <td>Greifswald</td>\n",
              "      <td>Anklamer Landstr. 1</td>\n",
              "      <td>DE</td>\n",
              "      <td>Checked 31 minutes ago</td>\n",
              "    </tr>\n",
              "    <tr>\n",
              "      <th>16668</th>\n",
              "      <td>8.787059</td>\n",
              "      <td>53.100934</td>\n",
              "      <td>0</td>\n",
              "      <td>False</td>\n",
              "      <td>False</td>\n",
              "      <td>inactive</td>\n",
              "      <td>NaN</td>\n",
              "      <td>Bremen</td>\n",
              "      <td>Waller Heerstr. 101</td>\n",
              "      <td>DE</td>\n",
              "      <td>Checked 31 minutes ago</td>\n",
              "    </tr>\n",
              "    <tr>\n",
              "      <th>16669</th>\n",
              "      <td>11.409059</td>\n",
              "      <td>53.628227</td>\n",
              "      <td>0</td>\n",
              "      <td>False</td>\n",
              "      <td>False</td>\n",
              "      <td>inactive</td>\n",
              "      <td>NaN</td>\n",
              "      <td>Schwerin</td>\n",
              "      <td>Marienplatz 5-7</td>\n",
              "      <td>DE</td>\n",
              "      <td>Checked 31 minutes ago</td>\n",
              "    </tr>\n",
              "    <tr>\n",
              "      <th>16670</th>\n",
              "      <td>11.405999</td>\n",
              "      <td>53.903701</td>\n",
              "      <td>0</td>\n",
              "      <td>False</td>\n",
              "      <td>False</td>\n",
              "      <td>inactive</td>\n",
              "      <td>NaN</td>\n",
              "      <td>Wismar</td>\n",
              "      <td>Zierower Landstr. 3</td>\n",
              "      <td>DE</td>\n",
              "      <td>Checked 31 minutes ago</td>\n",
              "    </tr>\n",
              "  </tbody>\n",
              "</table>\n",
              "<p>16671 rows × 11 columns</p>\n",
              "</div>\n",
              "      <button class=\"colab-df-convert\" onclick=\"convertToInteractive('df-5e0cc172-9f9f-4d21-9318-7f970fef5f3e')\"\n",
              "              title=\"Convert this dataframe to an interactive table.\"\n",
              "              style=\"display:none;\">\n",
              "        \n",
              "  <svg xmlns=\"http://www.w3.org/2000/svg\" height=\"24px\"viewBox=\"0 0 24 24\"\n",
              "       width=\"24px\">\n",
              "    <path d=\"M0 0h24v24H0V0z\" fill=\"none\"/>\n",
              "    <path d=\"M18.56 5.44l.94 2.06.94-2.06 2.06-.94-2.06-.94-.94-2.06-.94 2.06-2.06.94zm-11 1L8.5 8.5l.94-2.06 2.06-.94-2.06-.94L8.5 2.5l-.94 2.06-2.06.94zm10 10l.94 2.06.94-2.06 2.06-.94-2.06-.94-.94-2.06-.94 2.06-2.06.94z\"/><path d=\"M17.41 7.96l-1.37-1.37c-.4-.4-.92-.59-1.43-.59-.52 0-1.04.2-1.43.59L10.3 9.45l-7.72 7.72c-.78.78-.78 2.05 0 2.83L4 21.41c.39.39.9.59 1.41.59.51 0 1.02-.2 1.41-.59l7.78-7.78 2.81-2.81c.8-.78.8-2.07 0-2.86zM5.41 20L4 18.59l7.72-7.72 1.47 1.35L5.41 20z\"/>\n",
              "  </svg>\n",
              "      </button>\n",
              "      \n",
              "  <style>\n",
              "    .colab-df-container {\n",
              "      display:flex;\n",
              "      flex-wrap:wrap;\n",
              "      gap: 12px;\n",
              "    }\n",
              "\n",
              "    .colab-df-convert {\n",
              "      background-color: #E8F0FE;\n",
              "      border: none;\n",
              "      border-radius: 50%;\n",
              "      cursor: pointer;\n",
              "      display: none;\n",
              "      fill: #1967D2;\n",
              "      height: 32px;\n",
              "      padding: 0 0 0 0;\n",
              "      width: 32px;\n",
              "    }\n",
              "\n",
              "    .colab-df-convert:hover {\n",
              "      background-color: #E2EBFA;\n",
              "      box-shadow: 0px 1px 2px rgba(60, 64, 67, 0.3), 0px 1px 3px 1px rgba(60, 64, 67, 0.15);\n",
              "      fill: #174EA6;\n",
              "    }\n",
              "\n",
              "    [theme=dark] .colab-df-convert {\n",
              "      background-color: #3B4455;\n",
              "      fill: #D2E3FC;\n",
              "    }\n",
              "\n",
              "    [theme=dark] .colab-df-convert:hover {\n",
              "      background-color: #434B5C;\n",
              "      box-shadow: 0px 1px 3px 1px rgba(0, 0, 0, 0.15);\n",
              "      filter: drop-shadow(0px 1px 2px rgba(0, 0, 0, 0.3));\n",
              "      fill: #FFFFFF;\n",
              "    }\n",
              "  </style>\n",
              "\n",
              "      <script>\n",
              "        const buttonEl =\n",
              "          document.querySelector('#df-5e0cc172-9f9f-4d21-9318-7f970fef5f3e button.colab-df-convert');\n",
              "        buttonEl.style.display =\n",
              "          google.colab.kernel.accessAllowed ? 'block' : 'none';\n",
              "\n",
              "        async function convertToInteractive(key) {\n",
              "          const element = document.querySelector('#df-5e0cc172-9f9f-4d21-9318-7f970fef5f3e');\n",
              "          const dataTable =\n",
              "            await google.colab.kernel.invokeFunction('convertToInteractive',\n",
              "                                                     [key], {});\n",
              "          if (!dataTable) return;\n",
              "\n",
              "          const docLinkHtml = 'Like what you see? Visit the ' +\n",
              "            '<a target=\"_blank\" href=https://colab.research.google.com/notebooks/data_table.ipynb>data table notebook</a>'\n",
              "            + ' to learn more about interactive tables.';\n",
              "          element.innerHTML = '';\n",
              "          dataTable['output_type'] = 'display_data';\n",
              "          await google.colab.output.renderOutput(dataTable, element);\n",
              "          const docLink = document.createElement('div');\n",
              "          docLink.innerHTML = docLinkHtml;\n",
              "          element.appendChild(docLink);\n",
              "        }\n",
              "      </script>\n",
              "    </div>\n",
              "  </div>\n",
              "  "
            ]
          },
          "metadata": {},
          "execution_count": 4
        }
      ]
    },
    {
      "cell_type": "code",
      "source": [
        "df.shape\n",
        "#ROWS-16671\n",
        "#COLUMNS-11"
      ],
      "metadata": {
        "colab": {
          "base_uri": "https://localhost:8080/"
        },
        "id": "VkXwpA6X-QzF",
        "outputId": "f2723049-29f2-40f3-80c5-be38a47f3eaf"
      },
      "execution_count": null,
      "outputs": [
        {
          "output_type": "execute_result",
          "data": {
            "text/plain": [
              "(16671, 11)"
            ]
          },
          "metadata": {},
          "execution_count": 5
        }
      ]
    },
    {
      "cell_type": "code",
      "source": [
        "df.info()"
      ],
      "metadata": {
        "colab": {
          "base_uri": "https://localhost:8080/"
        },
        "id": "ZoH2IdszAyqg",
        "outputId": "0cd64b9e-5a8e-49ea-9fc8-4e90bea030ab"
      },
      "execution_count": null,
      "outputs": [
        {
          "output_type": "stream",
          "name": "stdout",
          "text": [
            "<class 'pandas.core.frame.DataFrame'>\n",
            "RangeIndex: 16671 entries, 0 to 16670\n",
            "Data columns (total 11 columns):\n",
            " #   Column        Non-Null Count  Dtype  \n",
            "---  ------        --------------  -----  \n",
            " 0   lat           16671 non-null  float64\n",
            " 1   lon           16671 non-null  float64\n",
            " 2   alt           16671 non-null  int64  \n",
            " 3   is_broken     16671 non-null  bool   \n",
            " 4   is_active     16671 non-null  bool   \n",
            " 5   dot           16671 non-null  object \n",
            " 6   state         12725 non-null  object \n",
            " 7   city          16663 non-null  object \n",
            " 8   street        16671 non-null  object \n",
            " 9   country       16671 non-null  object \n",
            " 10  last_checked  16671 non-null  object \n",
            "dtypes: bool(2), float64(2), int64(1), object(6)\n",
            "memory usage: 1.2+ MB\n"
          ]
        }
      ]
    },
    {
      "cell_type": "code",
      "source": [
        "#I just want to know how many itrue and false values in 'is_active' column are there\n",
        "df['is_active'].value_counts()"
      ],
      "metadata": {
        "colab": {
          "base_uri": "https://localhost:8080/"
        },
        "id": "Dk_jzEnfA0In",
        "outputId": "790b4295-9fa7-4ae5-d11b-a055a76f29d4"
      },
      "execution_count": null,
      "outputs": [
        {
          "output_type": "execute_result",
          "data": {
            "text/plain": [
              "True     16352\n",
              "False      319\n",
              "Name: is_active, dtype: int64"
            ]
          },
          "metadata": {},
          "execution_count": 7
        }
      ]
    },
    {
      "cell_type": "code",
      "source": [
        "#VISULAISATION\n",
        "df['is_active'].value_counts().plot(kind = 'bar')"
      ],
      "metadata": {
        "colab": {
          "base_uri": "https://localhost:8080/",
          "height": 298
        },
        "id": "mhbQulpmBCBL",
        "outputId": "a5cfdfd6-8e52-4c43-e078-6154f20cd059"
      },
      "execution_count": null,
      "outputs": [
        {
          "output_type": "execute_result",
          "data": {
            "text/plain": [
              "<matplotlib.axes._subplots.AxesSubplot at 0x7fcf1bf43910>"
            ]
          },
          "metadata": {},
          "execution_count": 8
        },
        {
          "output_type": "display_data",
          "data": {
            "text/plain": [
              "<Figure size 432x288 with 1 Axes>"
            ],
            "image/png": "[encoded data removed]"
          },
          "metadata": {
            "needs_background": "light"
          }
        }
      ]
    },
    {
      "cell_type": "code",
      "source": [
        "#Divide the data into input and output\n",
        "#Input:\n",
        "x = df.iloc[:,0:2].values \n",
        "x"
      ],
      "metadata": {
        "colab": {
          "base_uri": "https://localhost:8080/"
        },
        "id": "LSnXqnlCBStJ",
        "outputId": "b488cb20-dc60-4cea-9770-846fca2ee6e6"
      },
      "execution_count": null,
      "outputs": [
        {
          "output_type": "execute_result",
          "data": {
            "text/plain": [
              "array([[-73.988281  ,  40.71883   ],\n",
              "       [-74.00509   ,  40.728794  ],\n",
              "       [-73.993408  ,  40.729197  ],\n",
              "       ...,\n",
              "       [  8.78705919,  53.10093429],\n",
              "       [ 11.4090589 ,  53.6282266 ],\n",
              "       [ 11.40599889,  53.90370139]])"
            ]
          },
          "metadata": {},
          "execution_count": 9
        }
      ]
    },
    {
      "cell_type": "code",
      "source": [
        "#Output:\n",
        "y = df.iloc[:,4].values\n",
        "y"
      ],
      "metadata": {
        "colab": {
          "base_uri": "https://localhost:8080/"
        },
        "id": "OEpvnTfuBc4R",
        "outputId": "fb1d7465-c2a6-4135-dcfb-14185980cc50"
      },
      "execution_count": null,
      "outputs": [
        {
          "output_type": "execute_result",
          "data": {
            "text/plain": [
              "array([ True,  True,  True, ..., False, False, False])"
            ]
          },
          "metadata": {},
          "execution_count": 10
        }
      ]
    },
    {
      "cell_type": "code",
      "source": [
        "#Train_test_split/train and test variables\n",
        "from sklearn.model_selection import train_test_split\n",
        "x_train,x_test,y_train,y_test = train_test_split(x,y,random_state = 0)"
      ],
      "metadata": {
        "id": "P8vr10O8Blsq"
      },
      "execution_count": null,
      "outputs": []
    },
    {
      "cell_type": "code",
      "source": [
        "print(x.shape)\n",
        "print(x_train.shape) \n",
        "print(x_test.shape) "
      ],
      "metadata": {
        "colab": {
          "base_uri": "https://localhost:8080/"
        },
        "id": "fvSv_K4RBqRu",
        "outputId": "8fd047c6-a0ed-4826-a04e-eefc63911a59"
      },
      "execution_count": null,
      "outputs": [
        {
          "output_type": "stream",
          "name": "stdout",
          "text": [
            "(16671, 2)\n",
            "(12503, 2)\n",
            "(4168, 2)\n"
          ]
        }
      ]
    },
    {
      "cell_type": "code",
      "source": [
        "print(y.shape)\n",
        "print(y_train.shape) \n",
        "print(y_test.shape) "
      ],
      "metadata": {
        "colab": {
          "base_uri": "https://localhost:8080/"
        },
        "id": "eYC2vYEbBufv",
        "outputId": "e31eb4d0-701c-4eb8-dc43-152259a9513c"
      },
      "execution_count": null,
      "outputs": [
        {
          "output_type": "stream",
          "name": "stdout",
          "text": [
            "(16671,)\n",
            "(12503,)\n",
            "(4168,)\n"
          ]
        }
      ]
    },
    {
      "cell_type": "code",
      "source": [
        "#NORMALISATION or SCALING\n",
        "from sklearn.preprocessing import MinMaxScaler\n",
        "scaler = MinMaxScaler()\n",
        "x_train = scaler.fit_transform(x_train)\n",
        "x_test = scaler.fit_transform(x_test)\n"
      ],
      "metadata": {
        "id": "orpZPgsGBzCK"
      },
      "execution_count": null,
      "outputs": []
    },
    {
      "cell_type": "code",
      "source": [
        "#Apply Classifier/Regressor in the dataset\n",
        "#Here I apply LogisticRegression\n",
        "from sklearn.linear_model import LogisticRegression\n",
        "model = LogisticRegression()"
      ],
      "metadata": {
        "id": "XFVaETrdB3oX"
      },
      "execution_count": null,
      "outputs": []
    },
    {
      "cell_type": "code",
      "source": [
        "#Fitting the model\n",
        "model.fit(x_train,y_train)"
      ],
      "metadata": {
        "colab": {
          "base_uri": "https://localhost:8080/"
        },
        "id": "Q05l2rwWB68h",
        "outputId": "f8a7ab8d-411b-421c-9222-b84289dc03fe"
      },
      "execution_count": null,
      "outputs": [
        {
          "output_type": "execute_result",
          "data": {
            "text/plain": [
              "LogisticRegression()"
            ]
          },
          "metadata": {},
          "execution_count": 16
        }
      ]
    },
    {
      "cell_type": "code",
      "source": [
        "#Predict the output\n",
        "y_pred = model.predict(x_test)\n",
        "y_pred #PREDCITED VALUES"
      ],
      "metadata": {
        "colab": {
          "base_uri": "https://localhost:8080/"
        },
        "id": "7cyjQMl-B9_i",
        "outputId": "9cc517da-7792-47d8-b823-8ebde5640d55"
      },
      "execution_count": null,
      "outputs": [
        {
          "output_type": "execute_result",
          "data": {
            "text/plain": [
              "array([ True,  True,  True, ...,  True,  True,  True])"
            ]
          },
          "metadata": {},
          "execution_count": 17
        }
      ]
    },
    {
      "cell_type": "code",
      "source": [
        "y_test"
      ],
      "metadata": {
        "colab": {
          "base_uri": "https://localhost:8080/"
        },
        "id": "MNadvDbUCQPW",
        "outputId": "6cd00072-db45-464e-c182-56cf9db60f07"
      },
      "execution_count": null,
      "outputs": [
        {
          "output_type": "execute_result",
          "data": {
            "text/plain": [
              "array([ True,  True,  True, ...,  True,  True,  True])"
            ]
          },
          "metadata": {},
          "execution_count": 18
        }
      ]
    },
    {
      "cell_type": "code",
      "source": [
        "#Accuracy\n",
        "from sklearn.metrics import accuracy_score\n",
        "accuracy_score(y_pred,y_test)* 100"
      ],
      "metadata": {
        "colab": {
          "base_uri": "https://localhost:8080/"
        },
        "id": "FciDtyPPCVOx",
        "outputId": "2edc81ce-ce22-4000-e1a4-e9c0a6d3b0e0"
      },
      "execution_count": null,
      "outputs": [
        {
          "output_type": "execute_result",
          "data": {
            "text/plain": [
              "98.24856046065258"
            ]
          },
          "metadata": {},
          "execution_count": 19
        }
      ]
    },
    {
      "cell_type": "code",
      "source": [
        "#Individual Prediction\n",
        "a = scaler.transform([[13.475643,52.514265]])"
      ],
      "metadata": {
        "id": "doZQQp3wCZB0"
      },
      "execution_count": null,
      "outputs": []
    },
    {
      "cell_type": "code",
      "source": [
        "model.predict(a)"
      ],
      "metadata": {
        "colab": {
          "base_uri": "https://localhost:8080/"
        },
        "id": "8O0tINxOGZnI",
        "outputId": "9e3156a3-fe2f-461d-c086-d390a3e399c3"
      },
      "execution_count": null,
      "outputs": [
        {
          "output_type": "execute_result",
          "data": {
            "text/plain": [
              "array([ True])"
            ]
          },
          "metadata": {},
          "execution_count": 21
        }
      ]
    },
    {
      "cell_type": "code",
      "source": [
        "a"
      ],
      "metadata": {
        "colab": {
          "base_uri": "https://localhost:8080/"
        },
        "id": "Gc-qvZC3GckC",
        "outputId": "b6bdef1e-4d4a-485e-fe63-397e1d11f69e"
      },
      "execution_count": null,
      "outputs": [
        {
          "output_type": "execute_result",
          "data": {
            "text/plain": [
              "array([[0.99436863, 0.72699608]])"
            ]
          },
          "metadata": {},
          "execution_count": 22
        }
      ]
    },
    {
      "cell_type": "code",
      "source": [
        "#End"
      ],
      "metadata": {
        "id": "SiVeGuTwGfZW"
      },
      "execution_count": null,
      "outputs": []
    },
    {
      "cell_type": "code",
      "source": [],
      "metadata": {
        "id": "qGgItpP4ewGT"
      },
      "execution_count": null,
      "outputs": []
    }
  ]
}